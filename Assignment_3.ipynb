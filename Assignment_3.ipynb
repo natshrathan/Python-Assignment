{
 "cells": [
  {
   "cell_type": "code",
   "execution_count": 59,
   "id": "c462fe3d",
   "metadata": {},
   "outputs": [
    {
     "name": "stdout",
     "output_type": "stream",
     "text": [
      "Enter numbers separated by 'comma': 1,2,3,4,5,6,58,47\n",
      "The sum of numbers are is :  126\n"
     ]
    }
   ],
   "source": [
    "# Write a Python Program to implement your own myreduce() function which works exactly \n",
    "# like Python's built-in function reduce() \n",
    "def summ(c,d):\n",
    "     return c+d\n",
    "    \n",
    "def myreduce(function, iterable, initializer=None):\n",
    "    it = iter(iterable)\n",
    "    if initializer is None:\n",
    "        value = next(it)\n",
    "    else:\n",
    "        value = initializer\n",
    "    for element in it:\n",
    "        value = function(value, element)\n",
    "    return value\n",
    "\n",
    "li = [ int(i) for i in input(\"Enter numbers separated by 'comma': \").split(\",\")]\n",
    "\n",
    "print(\"The sum of numbers are is : \",myreduce(summ,li) )\n",
    "\n",
    "    "
   ]
  },
  {
   "cell_type": "code",
   "execution_count": 31,
   "id": "95dfe659",
   "metadata": {},
   "outputs": [
    {
     "name": "stdout",
     "output_type": "stream",
     "text": [
      "Enter numbers separated by 'comma': 1,2,3,4,5,6,7,8,9,10,12,13,14,15,16,26,29\n",
      "The even numbers are :  [2, 4, 6, 8, 10, 12, 14, 16, 26]\n"
     ]
    }
   ],
   "source": [
    "# Write a Python program to implement your own myfilter() function which works exactly \n",
    "# like Python's built-in function filter()\n",
    "li = [ int(i) for i in input(\"Enter numbers separated by 'comma': \").split(\",\")]\n",
    "\n",
    "def myfilter(li):\n",
    "        even_nos = []\n",
    "        for i in li:\n",
    "            if i%2 == 0:\n",
    "                even_nos.append(i)\n",
    "        return even_nos\n",
    "        \n",
    "print(\"The even numbers are : \",myfilter(li) )"
   ]
  },
  {
   "cell_type": "code",
   "execution_count": 32,
   "id": "f0bcaee5",
   "metadata": {},
   "outputs": [],
   "source": [
    "# Implement List comprehensions to produce the following lists. \n",
    "# Write List comprehensions to produce the following Lists\n",
    "\n",
    "# 1.  ['x', 'xx', 'xxx', 'xxxx', 'y', 'yy', 'yyy', 'yyyy', 'z', 'zz', 'zzz', 'zzzz']\n",
    "\n",
    "# 2. ['x', 'y', 'z', 'xx', 'yy', 'zz', 'xxx', 'yyy', 'zzz', 'xxxx', 'yyyy', 'zzzz'] \n",
    "\n",
    "# 3. [[2], [3], [4], [3], [4], [5], [4], [5], [6]] [[2, 3, 4, 5], [3, 4, 5, 6], [4, 5, 6, 7], [5, 6, 7, 8]]\n",
    "\n",
    "# 4. [(1, 1), (2, 1), (3, 1), (1, 2), (2, 2), (3, 2), (1, 3), (2, 3), (3, 3)]\n"
   ]
  },
  {
   "cell_type": "code",
   "execution_count": 55,
   "id": "1d91ebb0",
   "metadata": {},
   "outputs": [
    {
     "name": "stdout",
     "output_type": "stream",
     "text": [
      "['x', 'xx', 'xxx', 'xxxx', 'y', 'yy', 'yyy', 'yyyy', 'z', 'zz', 'zzz', 'zzzz']\n"
     ]
    }
   ],
   "source": [
    "# 1.  ['x', 'xx', 'xxx', 'xxxx', 'y', 'yy', 'yyy', 'yyyy', 'z', 'zz', 'zzz', 'zzzz']\n",
    "\n",
    "first = ['x', 'y', 'z']\n",
    "result_1 = [j*i for i in first for j in range(1,5)]\n",
    "print(result_1)"
   ]
  },
  {
   "cell_type": "code",
   "execution_count": 56,
   "id": "099fe469",
   "metadata": {},
   "outputs": [
    {
     "name": "stdout",
     "output_type": "stream",
     "text": [
      "['x', 'y', 'z', 'xx', 'yy', 'zz', 'xxx', 'yyy', 'zzz', 'xxxx', 'yyyy', 'zzzz']\n"
     ]
    }
   ],
   "source": [
    "# 2. ['x', 'y', 'z', 'xx', 'yy', 'zz', 'xxx', 'yyy', 'zzz', 'xxxx', 'yyyy', 'zzzz'] \n",
    "\n",
    "second = ['x', 'y', 'z']\n",
    "result_2 = [j*i  for j in range(1,5) for i in second]\n",
    "print(result_2)"
   ]
  },
  {
   "cell_type": "code",
   "execution_count": 57,
   "id": "741ac3db",
   "metadata": {},
   "outputs": [
    {
     "name": "stdout",
     "output_type": "stream",
     "text": [
      "[[2], [3], [4], [3], [4], [5], [4], [5], [6]] [[1, 2, 3], [2, 3, 4], [3, 4, 5], [4, 5, 6]]\n"
     ]
    }
   ],
   "source": [
    "# 3. [[2], [3], [4], [3], [4], [5], [4], [5], [6]] [[2, 3, 4, 5], [3, 4, 5, 6], [4, 5, 6, 7], [5, 6, 7, 8]]\n",
    "\n",
    "third = [2, 3, 4]\n",
    "result_3   = [[i+j] for i in third for j in range(3)]\n",
    "result_3_0 = [[i+j for i in lst] for j in range(4)]\n",
    "print(result_3 , result_3_0)"
   ]
  },
  {
   "cell_type": "code",
   "execution_count": 58,
   "id": "5f107e9e",
   "metadata": {},
   "outputs": [
    {
     "name": "stdout",
     "output_type": "stream",
     "text": [
      "[(1, 1), (2, 1), (3, 1), (1, 2), (2, 2), (3, 2), (1, 3), (2, 3), (3, 3)]\n"
     ]
    }
   ],
   "source": [
    "# 4. [(1, 1), (2, 1), (3, 1), (1, 2), (2, 2), (3, 2), (1, 3), (2, 3), (3, 3)]\n",
    "\n",
    "fourth = [1, 2, 3]\n",
    "result_4 = [(j, i) for i in lst for j in fourth]\n",
    "print(result_4)"
   ]
  }
 ],
 "metadata": {
  "kernelspec": {
   "display_name": "Python 3",
   "language": "python",
   "name": "python3"
  },
  "language_info": {
   "codemirror_mode": {
    "name": "ipython",
    "version": 3
   },
   "file_extension": ".py",
   "mimetype": "text/x-python",
   "name": "python",
   "nbconvert_exporter": "python",
   "pygments_lexer": "ipython3",
   "version": "3.8.8"
  }
 },
 "nbformat": 4,
 "nbformat_minor": 5
}
