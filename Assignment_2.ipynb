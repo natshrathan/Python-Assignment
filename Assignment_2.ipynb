{
 "cells": [
  {
   "cell_type": "code",
   "execution_count": 1,
   "id": "f67d7353",
   "metadata": {},
   "outputs": [
    {
     "name": "stdout",
     "output_type": "stream",
     "text": [
      "Enter a number5\n",
      "* \n",
      "* * \n",
      "* * * \n",
      "* * * * \n",
      "* * * * * \n",
      "* * * * \n",
      "* * * \n",
      "* * \n",
      "* \n",
      "\n"
     ]
    }
   ],
   "source": [
    "\"\"\" Create the below pattern using nested for loop in Python                   \n",
    "\n",
    "*\n",
    "* *\n",
    "* * *\n",
    "* * * *\n",
    "* * * * *\n",
    "* * * *\n",
    "* * *\n",
    "* *\n",
    "*\n",
    "\n",
    "\"\"\"\n",
    "\n",
    "\n",
    "n = int(input(\"Enter a number\"))\n",
    "for i in range (n):\n",
    "    for j in range(i+1):\n",
    "        print(\"* \",end = \"\")\n",
    "    print(\"\")\n",
    "    \n",
    "for i in range (n,0,-1):\n",
    "    for j in range(i-1):\n",
    "        print(\"* \",end = \"\")\n",
    "    print(\"\")"
   ]
  },
  {
   "cell_type": "code",
   "execution_count": 5,
   "id": "4ede8f9d",
   "metadata": {},
   "outputs": [
    {
     "name": "stdout",
     "output_type": "stream",
     "text": [
      "Enter a word : ineuron\n",
      "The reversed word is: ' norueni ' \n"
     ]
    }
   ],
   "source": [
    "\"\"\" Write a Python program to reverse a word after accepting the input from the user.                  \n",
    "\n",
    "Sample Output:\n",
    "\n",
    "Input word: ineuron\n",
    "\n",
    "Output: norueni\n",
    "\n",
    "\"\"\"\n",
    "\n",
    "n = input(\"Enter a word : \")\n",
    "print(\"The reversed word is:\"+ \" ' \" +n[::-1]+ \" ' \")\n"
   ]
  },
  {
   "cell_type": "code",
   "execution_count": null,
   "id": "40088e5e",
   "metadata": {},
   "outputs": [],
   "source": []
  }
 ],
 "metadata": {
  "kernelspec": {
   "display_name": "Python 3",
   "language": "python",
   "name": "python3"
  },
  "language_info": {
   "codemirror_mode": {
    "name": "ipython",
    "version": 3
   },
   "file_extension": ".py",
   "mimetype": "text/x-python",
   "name": "python",
   "nbconvert_exporter": "python",
   "pygments_lexer": "ipython3",
   "version": "3.8.8"
  }
 },
 "nbformat": 4,
 "nbformat_minor": 5
}
